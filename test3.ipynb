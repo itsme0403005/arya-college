{
 "cells": [
  {
   "cell_type": "code",
   "execution_count": 56,
   "metadata": {},
   "outputs": [],
   "source": [
    "import numpy as np\n",
    "import pandas as pd\n",
    "import matplotlib.pyplot as plt"
   ]
  },
  {
   "cell_type": "code",
   "execution_count": 57,
   "metadata": {},
   "outputs": [
    {
     "data": {
      "text/html": [
       "<div>\n",
       "<style scoped>\n",
       "    .dataframe tbody tr th:only-of-type {\n",
       "        vertical-align: middle;\n",
       "    }\n",
       "\n",
       "    .dataframe tbody tr th {\n",
       "        vertical-align: top;\n",
       "    }\n",
       "\n",
       "    .dataframe thead th {\n",
       "        text-align: right;\n",
       "    }\n",
       "</style>\n",
       "<table border=\"1\" class=\"dataframe\">\n",
       "  <thead>\n",
       "    <tr style=\"text-align: right;\">\n",
       "      <th></th>\n",
       "      <th>Student Name</th>\n",
       "      <th>Math</th>\n",
       "      <th>Science</th>\n",
       "      <th>English</th>\n",
       "      <th>History</th>\n",
       "    </tr>\n",
       "  </thead>\n",
       "  <tbody>\n",
       "    <tr>\n",
       "      <th>0</th>\n",
       "      <td>John</td>\n",
       "      <td>80</td>\n",
       "      <td>75</td>\n",
       "      <td>90</td>\n",
       "      <td>70</td>\n",
       "    </tr>\n",
       "    <tr>\n",
       "      <th>1</th>\n",
       "      <td>Sarah</td>\n",
       "      <td>95</td>\n",
       "      <td>85</td>\n",
       "      <td>80</td>\n",
       "      <td>85</td>\n",
       "    </tr>\n",
       "    <tr>\n",
       "      <th>2</th>\n",
       "      <td>David</td>\n",
       "      <td>70</td>\n",
       "      <td>65</td>\n",
       "      <td>75</td>\n",
       "      <td>80</td>\n",
       "    </tr>\n",
       "    <tr>\n",
       "      <th>3</th>\n",
       "      <td>Emily</td>\n",
       "      <td>85</td>\n",
       "      <td>90</td>\n",
       "      <td>88</td>\n",
       "      <td>90</td>\n",
       "    </tr>\n",
       "  </tbody>\n",
       "</table>\n",
       "</div>"
      ],
      "text/plain": [
       "  Student Name  Math  Science  English  History\n",
       "0         John    80       75       90       70\n",
       "1        Sarah    95       85       80       85\n",
       "2        David    70       65       75       80\n",
       "3        Emily    85       90       88       90"
      ]
     },
     "execution_count": 57,
     "metadata": {},
     "output_type": "execute_result"
    }
   ],
   "source": [
    "df= pd.read_csv(\"Screenshot .csv\")\n",
    "df.head()"
   ]
  },
  {
   "cell_type": "code",
   "execution_count": 58,
   "metadata": {},
   "outputs": [
    {
     "data": {
      "text/plain": [
       "Math       82.50\n",
       "Science    78.75\n",
       "English    83.25\n",
       "History    81.25\n",
       "dtype: float64"
      ]
     },
     "execution_count": 58,
     "metadata": {},
     "output_type": "execute_result"
    }
   ],
   "source": [
    "# Calculate the mean score of each subject\n",
    "mean_scores = df[['Math', 'Science', 'English', 'History']].mean()\n",
    "mean_scores"
   ]
  },
  {
   "cell_type": "code",
   "execution_count": 59,
   "metadata": {},
   "outputs": [
    {
     "data": {
      "text/html": [
       "<div>\n",
       "<style scoped>\n",
       "    .dataframe tbody tr th:only-of-type {\n",
       "        vertical-align: middle;\n",
       "    }\n",
       "\n",
       "    .dataframe tbody tr th {\n",
       "        vertical-align: top;\n",
       "    }\n",
       "\n",
       "    .dataframe thead th {\n",
       "        text-align: right;\n",
       "    }\n",
       "</style>\n",
       "<table border=\"1\" class=\"dataframe\">\n",
       "  <thead>\n",
       "    <tr style=\"text-align: right;\">\n",
       "      <th></th>\n",
       "      <th>Student Name</th>\n",
       "      <th>Average Score</th>\n",
       "    </tr>\n",
       "  </thead>\n",
       "  <tbody>\n",
       "    <tr>\n",
       "      <th>0</th>\n",
       "      <td>John</td>\n",
       "      <td>78.75</td>\n",
       "    </tr>\n",
       "    <tr>\n",
       "      <th>1</th>\n",
       "      <td>Sarah</td>\n",
       "      <td>86.25</td>\n",
       "    </tr>\n",
       "    <tr>\n",
       "      <th>2</th>\n",
       "      <td>David</td>\n",
       "      <td>72.50</td>\n",
       "    </tr>\n",
       "    <tr>\n",
       "      <th>3</th>\n",
       "      <td>Emily</td>\n",
       "      <td>88.25</td>\n",
       "    </tr>\n",
       "  </tbody>\n",
       "</table>\n",
       "</div>"
      ],
      "text/plain": [
       "  Student Name  Average Score\n",
       "0         John          78.75\n",
       "1        Sarah          86.25\n",
       "2        David          72.50\n",
       "3        Emily          88.25"
      ]
     },
     "execution_count": 59,
     "metadata": {},
     "output_type": "execute_result"
    }
   ],
   "source": [
    "# Calculate the average score of each student\n",
    "df['Average Score'] = df[['Math', 'Science', 'English', 'History']].mean(axis=1)\n",
    "df[['Student Name', 'Average Score']]"
   ]
  },
  {
   "cell_type": "code",
   "execution_count": 60,
   "metadata": {},
   "outputs": [
    {
     "name": "stdout",
     "output_type": "stream",
     "text": [
      "\n",
      "Student Average Scores:\n",
      "   Student Name  Average Score\n",
      "0         John          78.75\n",
      "1        Sarah          86.25\n",
      "2        David          72.50\n",
      "3        Emily          88.25\n"
     ]
    }
   ],
   "source": [
    "#Create a Pandas DataFrame for this dataset and calculate the average score of each student\n",
    "df[\"Average Score\"] = df.iloc[:, 1:].mean(axis=1)\n",
    "print(\"\\nStudent Average Scores:\\n\", df[[\"Student Name\", \"Average Score\"]])\n",
    "\n",
    "\n"
   ]
  },
  {
   "cell_type": "code",
   "execution_count": 61,
   "metadata": {},
   "outputs": [
    {
     "data": {
      "text/plain": [
       "'Emily'"
      ]
     },
     "execution_count": 61,
     "metadata": {},
     "output_type": "execute_result"
    }
   ],
   "source": [
    "# Find the student with the highest overall score\n",
    "best_student = df.loc[df['Average Score'].idxmax(), 'Student Name']\n",
    "best_student"
   ]
  },
  {
   "cell_type": "code",
   "execution_count": 62,
   "metadata": {},
   "outputs": [
    {
     "data": {
      "image/png": "[encoded data removed]",
      "text/plain": [
       "<Figure size 640x480 with 1 Axes>"
      ]
     },
     "metadata": {},
     "output_type": "display_data"
    }
   ],
   "source": [
    "#Plot a scatter plot using Matplotlib to visualize Math vs Science scores.\n",
    "plt.scatter(df[\"Math\"], df[\"Science\"], color='red')\n",
    "plt.xlabel(\"Math Scores\")\n",
    "plt.ylabel(\"Science Scores\")\n",
    "plt.title(\"Math vs Science Scores\")\n",
    "plt.show()\n"
   ]
  },
  {
   "cell_type": "code",
   "execution_count": 63,
   "metadata": {},
   "outputs": [
    {
     "data": {
      "text/html": [
       "<div>\n",
       "<style scoped>\n",
       "    .dataframe tbody tr th:only-of-type {\n",
       "        vertical-align: middle;\n",
       "    }\n",
       "\n",
       "    .dataframe tbody tr th {\n",
       "        vertical-align: top;\n",
       "    }\n",
       "\n",
       "    .dataframe thead th {\n",
       "        text-align: right;\n",
       "    }\n",
       "</style>\n",
       "<table border=\"1\" class=\"dataframe\">\n",
       "  <thead>\n",
       "    <tr style=\"text-align: right;\">\n",
       "      <th></th>\n",
       "      <th>Student Name</th>\n",
       "      <th>Math</th>\n",
       "      <th>Science</th>\n",
       "      <th>English</th>\n",
       "      <th>History</th>\n",
       "    </tr>\n",
       "  </thead>\n",
       "  <tbody>\n",
       "    <tr>\n",
       "      <th>0</th>\n",
       "      <td>John</td>\n",
       "      <td>-0.240192</td>\n",
       "      <td>-0.338241</td>\n",
       "      <td>0.965107</td>\n",
       "      <td>-1.317465</td>\n",
       "    </tr>\n",
       "    <tr>\n",
       "      <th>1</th>\n",
       "      <td>Sarah</td>\n",
       "      <td>1.200961</td>\n",
       "      <td>0.563735</td>\n",
       "      <td>-0.464681</td>\n",
       "      <td>0.439155</td>\n",
       "    </tr>\n",
       "    <tr>\n",
       "      <th>2</th>\n",
       "      <td>David</td>\n",
       "      <td>-1.200961</td>\n",
       "      <td>-1.240216</td>\n",
       "      <td>-1.179575</td>\n",
       "      <td>-0.146385</td>\n",
       "    </tr>\n",
       "    <tr>\n",
       "      <th>3</th>\n",
       "      <td>Emily</td>\n",
       "      <td>0.240192</td>\n",
       "      <td>1.014722</td>\n",
       "      <td>0.679149</td>\n",
       "      <td>1.024695</td>\n",
       "    </tr>\n",
       "  </tbody>\n",
       "</table>\n",
       "</div>"
      ],
      "text/plain": [
       "  Student Name      Math   Science   English   History\n",
       "0         John -0.240192 -0.338241  0.965107 -1.317465\n",
       "1        Sarah  1.200961  0.563735 -0.464681  0.439155\n",
       "2        David -1.200961 -1.240216 -1.179575 -0.146385\n",
       "3        Emily  0.240192  1.014722  0.679149  1.024695"
      ]
     },
     "execution_count": 63,
     "metadata": {},
     "output_type": "execute_result"
    }
   ],
   "source": [
    "# Standardize the scores using NumPy\n",
    "standardized_scores = (df[['Math', 'Science', 'English', 'History']] - df[['Math', 'Science', 'English', 'History']].mean()) / df[['Math', 'Science', 'English', 'History']].std()\n",
    "\n",
    "# Add back student names for clarity\n",
    "standardized_scores.insert(0, 'Student Name', df['Student Name'])\n",
    "standardized_scores"
   ]
  },
  {
   "cell_type": "code",
   "execution_count": 64,
   "metadata": {},
   "outputs": [
    {
     "data": {
      "image/png": "[encoded data removed]",
      "text/plain": [
       "<Figure size 640x480 with 1 Axes>"
      ]
     },
     "metadata": {},
     "output_type": "display_data"
    }
   ],
   "source": [
    "# Visualize the total scores using a bar plot.\n",
    "df[\"Total Score\"] = df.iloc[:, 1:].sum(axis=1)\n",
    "plt.bar(df[\"Student Name\"], df[\"Total Score\"], color=['blue', 'green', 'red', 'purple'])\n",
    "plt.xlabel(\"Students\")\n",
    "plt.ylabel(\"Total Score\")\n",
    "plt.title(\"Total Scores of Students\")\n",
    "plt.xticks(rotation=45)\n",
    "plt.show()\n"
   ]
  },
  {
   "cell_type": "code",
   "execution_count": 65,
   "metadata": {},
   "outputs": [
    {
     "data": {
      "text/html": [
       "<div>\n",
       "<style scoped>\n",
       "    .dataframe tbody tr th:only-of-type {\n",
       "        vertical-align: middle;\n",
       "    }\n",
       "\n",
       "    .dataframe tbody tr th {\n",
       "        vertical-align: top;\n",
       "    }\n",
       "\n",
       "    .dataframe thead th {\n",
       "        text-align: right;\n",
       "    }\n",
       "</style>\n",
       "<table border=\"1\" class=\"dataframe\">\n",
       "  <thead>\n",
       "    <tr style=\"text-align: right;\">\n",
       "      <th></th>\n",
       "      <th>Student Name</th>\n",
       "      <th>Math</th>\n",
       "      <th>Science</th>\n",
       "      <th>English</th>\n",
       "      <th>History</th>\n",
       "      <th>Total Standardized Score</th>\n",
       "    </tr>\n",
       "  </thead>\n",
       "  <tbody>\n",
       "    <tr>\n",
       "      <th>0</th>\n",
       "      <td>John</td>\n",
       "      <td>-0.240192</td>\n",
       "      <td>-0.338241</td>\n",
       "      <td>0.965107</td>\n",
       "      <td>-1.317465</td>\n",
       "      <td>-0.930791</td>\n",
       "    </tr>\n",
       "    <tr>\n",
       "      <th>1</th>\n",
       "      <td>Sarah</td>\n",
       "      <td>1.200961</td>\n",
       "      <td>0.563735</td>\n",
       "      <td>-0.464681</td>\n",
       "      <td>0.439155</td>\n",
       "      <td>1.739170</td>\n",
       "    </tr>\n",
       "    <tr>\n",
       "      <th>2</th>\n",
       "      <td>David</td>\n",
       "      <td>-1.200961</td>\n",
       "      <td>-1.240216</td>\n",
       "      <td>-1.179575</td>\n",
       "      <td>-0.146385</td>\n",
       "      <td>-3.767137</td>\n",
       "    </tr>\n",
       "    <tr>\n",
       "      <th>3</th>\n",
       "      <td>Emily</td>\n",
       "      <td>0.240192</td>\n",
       "      <td>1.014722</td>\n",
       "      <td>0.679149</td>\n",
       "      <td>1.024695</td>\n",
       "      <td>2.958759</td>\n",
       "    </tr>\n",
       "  </tbody>\n",
       "</table>\n",
       "</div>"
      ],
      "text/plain": [
       "  Student Name      Math   Science   English   History  \\\n",
       "0         John -0.240192 -0.338241  0.965107 -1.317465   \n",
       "1        Sarah  1.200961  0.563735 -0.464681  0.439155   \n",
       "2        David -1.200961 -1.240216 -1.179575 -0.146385   \n",
       "3        Emily  0.240192  1.014722  0.679149  1.024695   \n",
       "\n",
       "   Total Standardized Score  \n",
       "0                 -0.930791  \n",
       "1                  1.739170  \n",
       "2                 -3.767137  \n",
       "3                  2.958759  "
      ]
     },
     "execution_count": 65,
     "metadata": {},
     "output_type": "execute_result"
    }
   ],
   "source": [
    "#Generate a pie chart representing the subject-wise average scores.\n",
    "# Standardize the scores using NumPy\n",
    "standardized_scores = (df[['Math', 'Science', 'English', 'History']] - df[['Math', 'Science', 'English', 'History']].mean()) / df[['Math', 'Science', 'English', 'History']].std()\n",
    "\n",
    "# Add back student names for clarity\n",
    "standardized_scores.insert(0, 'Student Name', df['Student Name'])\n",
    "\n",
    "# Calculate the total standardized score for each student\n",
    "standardized_scores['Total Standardized Score'] = standardized_scores[['Math', 'Science', 'English', 'History']].sum(axis=1)\n",
    "\n",
    "standardized_scores\n",
    "\n",
    "\n"
   ]
  },
  {
   "cell_type": "code",
   "execution_count": 66,
   "metadata": {},
   "outputs": [
    {
     "name": "stdout",
     "output_type": "stream",
     "text": [
      "\n",
      "Students with History score above average:\n",
      "   Student Name  Math  Science  English  History  Average Score  Total Score\n",
      "1        Sarah    95       85       80       85          86.25       431.25\n",
      "3        Emily    85       90       88       90          88.25       441.25\n"
     ]
    }
   ],
   "source": [
    "#Display the students whose History score is greater than the average History score.\n",
    "history_avg = df[\"History\"].mean()\n",
    "above_avg_history = df[df[\"History\"] > history_avg]\n",
    "print(\"\\nStudents with History score above average:\\n\", above_avg_history)"
   ]
  }
 ],
 "metadata": {
  "kernelspec": {
   "display_name": "Python 3",
   "language": "python",
   "name": "python3"
  },
  "language_info": {
   "codemirror_mode": {
    "name": "ipython",
    "version": 3
   },
   "file_extension": ".py",
   "mimetype": "text/x-python",
   "name": "python",
   "nbconvert_exporter": "python",
   "pygments_lexer": "ipython3",
   "version": "3.13.2"
  }
 },
 "nbformat": 4,
 "nbformat_minor": 2
}
